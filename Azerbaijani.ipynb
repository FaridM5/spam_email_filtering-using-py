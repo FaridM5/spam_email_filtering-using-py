{
 "cells": [
  {
   "cell_type": "code",
   "execution_count": null,
   "id": "dc888daf",
   "metadata": {},
   "outputs": [],
   "source": [
    "import pandas as pd\n",
    "from translate import Translator\n",
    "import os"
   ]
  },
  {
   "cell_type": "code",
   "execution_count": null,
   "id": "17b8d826",
   "metadata": {},
   "outputs": [],
   "source": [
    "dataset_df = pd.read_csv('C:/Users/ferid/Desktop/aze/dataset.csv')"
   ]
  },
  {
   "cell_type": "code",
   "execution_count": null,
   "id": "60e04e11",
   "metadata": {},
   "outputs": [],
   "source": [
    "def translate_to_azerbaijani(text):\n",
    "    translator = Translator(to_lang='az')\n",
    "    translation = translator.translate(text)\n",
    "    return translation"
   ]
  },
  {
   "cell_type": "code",
   "execution_count": null,
   "id": "74149841",
   "metadata": {},
   "outputs": [],
   "source": [
    "dataset_df['Message'] = dataset_df['Message'].apply(translate_to_azerbaijani)"
   ]
  },
  {
   "cell_type": "code",
   "execution_count": null,
   "id": "9577228d",
   "metadata": {},
   "outputs": [],
   "source": [
    "dataset_df.to_csv('C:/Users/ferid/Desktop/aze/dataset_translated.csv', index=False)"
   ]
  },
  {
   "cell_type": "code",
   "execution_count": null,
   "id": "63ec2c07",
   "metadata": {},
   "outputs": [],
   "source": [
    "if os.path.exists('C:/Users/ferid/Desktop/aze/dataset_translated.csv'):\n",
    "    print(\"Translation and CSV save completed successfully.\")\n",
    "else:\n",
    "    print(\"Error: The file was not created. Check for issues during translation or CSV save.\")"
   ]
  }
 ],
 "metadata": {
  "kernelspec": {
   "display_name": "Python 3 (ipykernel)",
   "language": "python",
   "name": "python3"
  },
  "language_info": {
   "codemirror_mode": {
    "name": "ipython",
    "version": 3
   },
   "file_extension": ".py",
   "mimetype": "text/x-python",
   "name": "python",
   "nbconvert_exporter": "python",
   "pygments_lexer": "ipython3",
   "version": "3.11.4"
  }
 },
 "nbformat": 4,
 "nbformat_minor": 5
}
